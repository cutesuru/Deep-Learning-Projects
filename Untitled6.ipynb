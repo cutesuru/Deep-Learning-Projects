{
 "cells": [
  {
   "cell_type": "code",
   "execution_count": 1,
   "metadata": {},
   "outputs": [],
   "source": [
    "import torch\n",
    "import torchvision\n",
    "from torchvision import datasets,transforms"
   ]
  },
  {
   "cell_type": "code",
   "execution_count": 2,
   "metadata": {},
   "outputs": [
    {
     "name": "stdout",
     "output_type": "stream",
     "text": [
      "Files already downloaded and verified\n"
     ]
    }
   ],
   "source": [
    "train=datasets.CIFAR10(\"/cifar\",train=True,download=True,transform=transforms.Compose([transforms.ToTensor()]))"
   ]
  },
  {
   "cell_type": "raw",
   "metadata": {},
   "source": []
  },
  {
   "cell_type": "code",
   "execution_count": 3,
   "metadata": {},
   "outputs": [
    {
     "name": "stdout",
     "output_type": "stream",
     "text": [
      "Files already downloaded and verified\n"
     ]
    }
   ],
   "source": [
    "test=datasets.CIFAR10(\"/cifar\",train=False,download=True,transform=transforms.Compose([transforms.ToTensor()]))"
   ]
  },
  {
   "cell_type": "code",
   "execution_count": 4,
   "metadata": {},
   "outputs": [],
   "source": [
    "trainset=torch.utils.data.DataLoader(train,batch_size=32,shuffle=True)\n",
    "testset=torch.utils.data.DataLoader(test,batch_size=32,shuffle=True)"
   ]
  },
  {
   "cell_type": "code",
   "execution_count": 11,
   "metadata": {},
   "outputs": [
    {
     "name": "stdout",
     "output_type": "stream",
     "text": [
      "CNN(\n",
      "  (conv1): Conv2d(3, 64, kernel_size=(3, 3), stride=(1, 1))\n",
      "  (bn1): BatchNorm2d(64, eps=1e-05, momentum=0.1, affine=True, track_running_stats=True)\n",
      "  (conv2): Conv2d(64, 128, kernel_size=(3, 3), stride=(1, 1))\n",
      "  (bn2): BatchNorm2d(128, eps=1e-05, momentum=0.1, affine=True, track_running_stats=True)\n",
      "  (conv3): Conv2d(128, 256, kernel_size=(3, 3), stride=(1, 1))\n",
      "  (bn3): BatchNorm2d(256, eps=1e-05, momentum=0.1, affine=True, track_running_stats=True)\n",
      "  (fc1): Linear(in_features=1024, out_features=512, bias=True)\n",
      "  (fc2): Linear(in_features=512, out_features=10, bias=True)\n",
      ")\n"
     ]
    }
   ],
   "source": [
    "import torch.nn as nn\n",
    "import torch.nn.functional as F\n",
    "class CNN(nn.Module):\n",
    "    \"\"\"CNN.\"\"\"\n",
    "\n",
    "    def __init__(self):\n",
    "        \"\"\"CNN Builder.\"\"\"\n",
    "        super().__init__()\n",
    "        self.conv1 = nn.Conv2d(3,64,3)\n",
    "        self.bn1=nn.BatchNorm2d(64)\n",
    "        self.conv2 = nn.Conv2d(64,128,3)\n",
    "        self.bn2=nn.BatchNorm2d(128)\n",
    "        self.conv3 = nn.Conv2d(128,256,3)\n",
    "        self.bn3=nn.BatchNorm2d(256)\n",
    "        self.fc1=nn.Linear(256*2*2,512)\n",
    "        self.fc2=nn.Linear(512,10)    \n",
    "        \n",
    "    def forward(self, x):\n",
    "        \"\"\"Perform forward.\"\"\"\n",
    "        x=F.relu(self.conv1(x))\n",
    "        x=self.bn1(x)\n",
    "        #print(\"0\",x.shape)\n",
    "        x=F.max_pool2d(x,(2,2))\n",
    "        #print(\"1\",x.shape)\n",
    "        x=F.relu(self.conv2(x))\n",
    "        x=self.bn2(x)\n",
    "        #print(\"3\",x.shape)\n",
    "        x=F.max_pool2d(x,(2,2))\n",
    "        #print(\"4\",x.shape)\n",
    "        x=F.relu(self.conv3(x))\n",
    "        x=self.bn3(x)\n",
    "        x=F.max_pool2d(x,(2,2))\n",
    "        x=x.view(-1,4*4*64)\n",
    "        x=F.relu(self.fc1(x))\n",
    "        x=self.fc2(x)\n",
    "        \n",
    "        return F.log_softmax(x,dim=1)\n",
    "n=CNN()\n",
    "print(n)"
   ]
  },
  {
   "cell_type": "code",
   "execution_count": 41,
   "metadata": {},
   "outputs": [
    {
     "name": "stdout",
     "output_type": "stream",
     "text": [
      "Net(\n",
      "  (fc1): Linear(in_features=3072, out_features=1024, bias=True)\n",
      "  (fc2): Linear(in_features=1024, out_features=512, bias=True)\n",
      "  (fc3): Linear(in_features=512, out_features=10, bias=True)\n",
      ")\n"
     ]
    }
   ],
   "source": [
    "import torch.nn as nn\n",
    "import torch.nn.functional as F\n",
    "class Net(nn.Module):\n",
    "    def __init__(self):\n",
    "        super().__init__()\n",
    "        self.fc1=nn.Linear(3072,1024)\n",
    "        self.fc2=nn.Linear(1024,512)\n",
    "        self.fc3=nn.Linear(512,10)\n",
    "    def forward(self,x):\n",
    "        x=F.relu(self.fc1(x))\n",
    "        x=F.relu(self.fc2(x))\n",
    "        x=self.fc3(x)\n",
    "        \n",
    "        return F.log_softmax(x,dim=1)        \n",
    "n=Net()\n",
    "print(n)"
   ]
  },
  {
   "cell_type": "code",
   "execution_count": 42,
   "metadata": {},
   "outputs": [
    {
     "name": "stdout",
     "output_type": "stream",
     "text": [
      "epoch:0\t loss:2.264268636703491\n",
      "epoch:5\t loss:1.919363260269165\n",
      "epoch:10\t loss:1.8168023824691772\n",
      "epoch:15\t loss:1.7393771409988403\n",
      "epoch:20\t loss:1.6790804862976074\n",
      "epoch:25\t loss:1.62775719165802\n",
      "epoch:30\t loss:1.5826467275619507\n",
      "epoch:35\t loss:1.5425307750701904\n",
      "epoch:40\t loss:1.5053632259368896\n",
      "epoch:45\t loss:1.471523642539978\n",
      "epoch:50\t loss:1.4388023614883423\n",
      "epoch:55\t loss:1.4073294401168823\n",
      "epoch:60\t loss:1.3784040212631226\n",
      "epoch:65\t loss:1.350338339805603\n",
      "epoch:70\t loss:1.3233956098556519\n",
      "epoch:75\t loss:1.2972126007080078\n",
      "epoch:80\t loss:1.2717591524124146\n",
      "epoch:85\t loss:1.2486385107040405\n",
      "epoch:90\t loss:1.2242788076400757\n",
      "epoch:95\t loss:1.2015793323516846\n"
     ]
    }
   ],
   "source": [
    "import torch.optim as optim\n",
    "Loss = nn.CrossEntropyLoss()\n",
    "optimizer=optim.SGD(n.parameters(),lr=0.001)\n",
    "for epoch in range(0,100):\n",
    "\n",
    "    running_loss = 0.0\n",
    "    for data in trainset:\n",
    "        x,y=data\n",
    "        n.zero_grad()\n",
    "        output=n(x.view(-1,3072))\n",
    "        loss=Loss(output,y)\n",
    "        loss.backward()\n",
    "        optimizer.step()\n",
    "        running_loss+=loss\n",
    "    running_loss/=len(trainset)\n",
    "    if(epoch%5==0):\n",
    "        print(f\"epoch:{epoch}\\t loss:{running_loss}\")\n",
    "        \n",
    "    "
   ]
  },
  {
   "cell_type": "code",
   "execution_count": 43,
   "metadata": {},
   "outputs": [
    {
     "name": "stdout",
     "output_type": "stream",
     "text": [
      "tensor(1.1842, grad_fn=<DivBackward0>)\n"
     ]
    }
   ],
   "source": [
    "print(running_loss)"
   ]
  },
  {
   "cell_type": "code",
   "execution_count": 47,
   "metadata": {},
   "outputs": [
    {
     "name": "stdout",
     "output_type": "stream",
     "text": [
      "Accuarcy :51.42\n"
     ]
    }
   ],
   "source": [
    "total=0\n",
    "correct=0\n",
    "with torch.no_grad():\n",
    "    for data in testset:\n",
    "        x,y=data\n",
    "        output=n(x.view(-1,3072))\n",
    "        for i,idx in enumerate(output):\n",
    "            if(y[i]==torch.argmax(idx)):\n",
    "                correct+=1\n",
    "            total+=1\n",
    "print(f\"Accuarcy :{correct/total*100}\")       "
   ]
  },
  {
   "cell_type": "code",
   "execution_count": 55,
   "metadata": {},
   "outputs": [
    {
     "data": {
      "image/png": "[encoded data removed]",
      "text/plain": [
       "<Figure size 432x288 with 1 Axes>"
      ]
     },
     "metadata": {
      "needs_background": "light"
     },
     "output_type": "display_data"
    }
   ],
   "source": [
    "import matplotlib.pyplot as plt\n",
    "plt.imshow(x[1].view(32,32,3))\n",
    "plt.show()"
   ]
  },
  {
   "cell_type": "code",
   "execution_count": 58,
   "metadata": {},
   "outputs": [
    {
     "name": "stdout",
     "output_type": "stream",
     "text": [
      "tensor(2)\n",
      "tensor(6)\n"
     ]
    }
   ],
   "source": [
    "print(torch.argmax(n(x[1].view(-1,3072))))\n",
    "print(y[1])"
   ]
  },
  {
   "cell_type": "code",
   "execution_count": null,
   "metadata": {},
   "outputs": [
    {
     "name": "stdout",
     "output_type": "stream",
     "text": [
      "epoch:0\t loss:1.7184511423110962\n"
     ]
    }
   ],
   "source": [
    "import torch.optim as optim\n",
    "Loss = nn.CrossEntropyLoss()\n",
    "optimizer=optim.SGD(n.parameters(),lr=0.001)\n",
    "for epoch in range(0,100):\n",
    "\n",
    "    running_loss = 0.0\n",
    "    for data in trainset:\n",
    "        x,y=data\n",
    "        n.zero_grad()\n",
    "        output=n(x)\n",
    "        loss=Loss(output,y)\n",
    "        loss.backward()\n",
    "        optimizer.step()\n",
    "        running_loss+=loss\n",
    "    running_loss/=len(trainset)\n",
    "    if(epoch%5==0):\n",
    "        print(f\"epoch:{epoch}\\t loss:{running_loss}\")"
   ]
  },
  {
   "cell_type": "code",
   "execution_count": null,
   "metadata": {},
   "outputs": [],
   "source": [
    "print(running_loss)"
   ]
  },
  {
   "cell_type": "code",
   "execution_count": null,
   "metadata": {},
   "outputs": [],
   "source": []
  }
 ],
 "metadata": {
  "kernelspec": {
   "display_name": "Python 3",
   "language": "python",
   "name": "python3"
  },
  "language_info": {
   "codemirror_mode": {
    "name": "ipython",
    "version": 3
   },
   "file_extension": ".py",
   "mimetype": "text/x-python",
   "name": "python",
   "nbconvert_exporter": "python",
   "pygments_lexer": "ipython3",
   "version": "3.7.3"
  }
 },
 "nbformat": 4,
 "nbformat_minor": 2
}
